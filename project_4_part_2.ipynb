{
 "cells": [
  {
   "cell_type": "markdown",
   "metadata": {},
   "source": [
    "## Walmart sale forecat-Notebook_2\n",
    "\n",
    "### In this notebook, I will create forecast model for items with highest revenue\n"
   ]
  },
  {
   "cell_type": "markdown",
   "metadata": {},
   "source": [
    "### 1.1 Import Librries"
   ]
  },
  {
   "cell_type": "code",
   "execution_count": 1,
   "metadata": {},
   "outputs": [],
   "source": [
    "import pandas as pd\n",
    "import numpy as np\n",
    "import os, sys, gc, time, warnings, pickle, random  #psutil\n",
    "from scipy import sparse\n",
    "import lightgbm as lgb\n",
    "\n",
    "from  datetime import datetime, timedelta\n",
    "\n",
    "from sklearn.pipeline import make_pipeline\n",
    "from sklearn.compose import ColumnTransformer\n",
    "from sklearn.preprocessing import LabelEncoder,MinMaxScaler\n",
    "import category_encoders as ce\n",
    "\n",
    "from sklearn.model_selection import cross_val_score\n",
    "from sklearn.metrics import r2_score, mean_squared_error\n",
    "import matplotlib.pyplot as plt\n",
    "\n",
    "%matplotlib inline\n",
    "\n",
    "warnings.filterwarnings('ignore')"
   ]
  },
  {
   "cell_type": "markdown",
   "metadata": {},
   "source": [
    "### 1.2 Read in data"
   ]
  },
  {
   "cell_type": "code",
   "execution_count": null,
   "metadata": {},
   "outputs": [],
   "source": [
    "df = pd.read_csv('wm_sales.csv') ### created in notebook_1"
   ]
  },
  {
   "cell_type": "code",
   "execution_count": 55,
   "metadata": {},
   "outputs": [
    {
     "name": "stdout",
     "output_type": "stream",
     "text": [
      "<class 'pandas.core.frame.DataFrame'>\n",
      "Int64Index: 46027957 entries, 0 to 46027956\n",
      "Data columns (total 25 columns):\n",
      "id              category\n",
      "item_id         category\n",
      "dept_id         category\n",
      "cat_id          category\n",
      "store_id        category\n",
      "state_id        category\n",
      "d               int16\n",
      "sales           int16\n",
      "date            datetime64[ns]\n",
      "wm_yr_wk        int16\n",
      "weekday         category\n",
      "wday            int8\n",
      "month           int8\n",
      "year            int16\n",
      "snap_CA         int64\n",
      "snap_TX         int8\n",
      "snap_WI         int64\n",
      "event_name_1    int8\n",
      "event_type_1    int8\n",
      "event_name_2    int8\n",
      "event_type_2    int8\n",
      "day             int8\n",
      "week            int8\n",
      "sell_price      float64\n",
      "revenue         float64\n",
      "dtypes: category(7), datetime64[ns](1), float64(2), int16(4), int64(2), int8(9)\n",
      "memory usage: 3.2 GB\n"
     ]
    }
   ],
   "source": [
    "df.info()"
   ]
  },
  {
   "cell_type": "code",
   "execution_count": 57,
   "metadata": {
    "scrolled": true
   },
   "outputs": [
    {
     "data": {
      "text/html": [
       "<div>\n",
       "<style scoped>\n",
       "    .dataframe tbody tr th:only-of-type {\n",
       "        vertical-align: middle;\n",
       "    }\n",
       "\n",
       "    .dataframe tbody tr th {\n",
       "        vertical-align: top;\n",
       "    }\n",
       "\n",
       "    .dataframe thead th {\n",
       "        text-align: right;\n",
       "    }\n",
       "</style>\n",
       "<table border=\"1\" class=\"dataframe\">\n",
       "  <thead>\n",
       "    <tr style=\"text-align: right;\">\n",
       "      <th></th>\n",
       "      <th>id</th>\n",
       "      <th>item_id</th>\n",
       "      <th>dept_id</th>\n",
       "      <th>cat_id</th>\n",
       "      <th>store_id</th>\n",
       "      <th>state_id</th>\n",
       "      <th>d</th>\n",
       "      <th>sales</th>\n",
       "      <th>date</th>\n",
       "      <th>wm_yr_wk</th>\n",
       "      <th>...</th>\n",
       "      <th>snap_TX</th>\n",
       "      <th>snap_WI</th>\n",
       "      <th>event_name_1</th>\n",
       "      <th>event_type_1</th>\n",
       "      <th>event_name_2</th>\n",
       "      <th>event_type_2</th>\n",
       "      <th>day</th>\n",
       "      <th>week</th>\n",
       "      <th>sell_price</th>\n",
       "      <th>revenue</th>\n",
       "    </tr>\n",
       "  </thead>\n",
       "  <tbody>\n",
       "    <tr>\n",
       "      <td>0</td>\n",
       "      <td>HOBBIES_1_008_CA_1_validation</td>\n",
       "      <td>HOBBIES_1_008</td>\n",
       "      <td>HOBBIES_1</td>\n",
       "      <td>HOBBIES</td>\n",
       "      <td>CA_1</td>\n",
       "      <td>CA</td>\n",
       "      <td>1</td>\n",
       "      <td>12</td>\n",
       "      <td>2011-01-29</td>\n",
       "      <td>11101</td>\n",
       "      <td>...</td>\n",
       "      <td>0</td>\n",
       "      <td>0</td>\n",
       "      <td>0</td>\n",
       "      <td>0</td>\n",
       "      <td>0</td>\n",
       "      <td>0</td>\n",
       "      <td>29</td>\n",
       "      <td>4</td>\n",
       "      <td>0.46</td>\n",
       "      <td>5.52</td>\n",
       "    </tr>\n",
       "    <tr>\n",
       "      <td>1</td>\n",
       "      <td>HOBBIES_1_008_CA_1_validation</td>\n",
       "      <td>HOBBIES_1_008</td>\n",
       "      <td>HOBBIES_1</td>\n",
       "      <td>HOBBIES</td>\n",
       "      <td>CA_1</td>\n",
       "      <td>CA</td>\n",
       "      <td>2</td>\n",
       "      <td>15</td>\n",
       "      <td>2011-01-30</td>\n",
       "      <td>11101</td>\n",
       "      <td>...</td>\n",
       "      <td>0</td>\n",
       "      <td>0</td>\n",
       "      <td>0</td>\n",
       "      <td>0</td>\n",
       "      <td>0</td>\n",
       "      <td>0</td>\n",
       "      <td>30</td>\n",
       "      <td>4</td>\n",
       "      <td>0.46</td>\n",
       "      <td>6.90</td>\n",
       "    </tr>\n",
       "    <tr>\n",
       "      <td>2</td>\n",
       "      <td>HOBBIES_1_008_CA_1_validation</td>\n",
       "      <td>HOBBIES_1_008</td>\n",
       "      <td>HOBBIES_1</td>\n",
       "      <td>HOBBIES</td>\n",
       "      <td>CA_1</td>\n",
       "      <td>CA</td>\n",
       "      <td>3</td>\n",
       "      <td>0</td>\n",
       "      <td>2011-01-31</td>\n",
       "      <td>11101</td>\n",
       "      <td>...</td>\n",
       "      <td>0</td>\n",
       "      <td>0</td>\n",
       "      <td>0</td>\n",
       "      <td>0</td>\n",
       "      <td>0</td>\n",
       "      <td>0</td>\n",
       "      <td>31</td>\n",
       "      <td>5</td>\n",
       "      <td>0.46</td>\n",
       "      <td>0.00</td>\n",
       "    </tr>\n",
       "    <tr>\n",
       "      <td>46027953</td>\n",
       "      <td>FOODS_3_826_WI_3_validation</td>\n",
       "      <td>FOODS_3_826</td>\n",
       "      <td>FOODS_3</td>\n",
       "      <td>FOODS</td>\n",
       "      <td>WI_3</td>\n",
       "      <td>WI</td>\n",
       "      <td>1912</td>\n",
       "      <td>1</td>\n",
       "      <td>2016-04-23</td>\n",
       "      <td>11613</td>\n",
       "      <td>...</td>\n",
       "      <td>0</td>\n",
       "      <td>0</td>\n",
       "      <td>0</td>\n",
       "      <td>0</td>\n",
       "      <td>0</td>\n",
       "      <td>0</td>\n",
       "      <td>23</td>\n",
       "      <td>16</td>\n",
       "      <td>1.28</td>\n",
       "      <td>1.28</td>\n",
       "    </tr>\n",
       "    <tr>\n",
       "      <td>46027954</td>\n",
       "      <td>FOODS_3_826_WI_3_validation</td>\n",
       "      <td>FOODS_3_826</td>\n",
       "      <td>FOODS_3</td>\n",
       "      <td>FOODS</td>\n",
       "      <td>WI_3</td>\n",
       "      <td>WI</td>\n",
       "      <td>1913</td>\n",
       "      <td>3</td>\n",
       "      <td>2016-04-24</td>\n",
       "      <td>11613</td>\n",
       "      <td>...</td>\n",
       "      <td>0</td>\n",
       "      <td>0</td>\n",
       "      <td>0</td>\n",
       "      <td>0</td>\n",
       "      <td>0</td>\n",
       "      <td>0</td>\n",
       "      <td>24</td>\n",
       "      <td>16</td>\n",
       "      <td>1.28</td>\n",
       "      <td>3.84</td>\n",
       "    </tr>\n",
       "    <tr>\n",
       "      <td>46027955</td>\n",
       "      <td>FOODS_3_827_WI_3_validation</td>\n",
       "      <td>FOODS_3_827</td>\n",
       "      <td>FOODS_3</td>\n",
       "      <td>FOODS</td>\n",
       "      <td>WI_3</td>\n",
       "      <td>WI</td>\n",
       "      <td>1912</td>\n",
       "      <td>0</td>\n",
       "      <td>2016-04-23</td>\n",
       "      <td>11613</td>\n",
       "      <td>...</td>\n",
       "      <td>0</td>\n",
       "      <td>0</td>\n",
       "      <td>0</td>\n",
       "      <td>0</td>\n",
       "      <td>0</td>\n",
       "      <td>0</td>\n",
       "      <td>23</td>\n",
       "      <td>16</td>\n",
       "      <td>1.00</td>\n",
       "      <td>0.00</td>\n",
       "    </tr>\n",
       "    <tr>\n",
       "      <td>46027956</td>\n",
       "      <td>FOODS_3_827_WI_3_validation</td>\n",
       "      <td>FOODS_3_827</td>\n",
       "      <td>FOODS_3</td>\n",
       "      <td>FOODS</td>\n",
       "      <td>WI_3</td>\n",
       "      <td>WI</td>\n",
       "      <td>1913</td>\n",
       "      <td>0</td>\n",
       "      <td>2016-04-24</td>\n",
       "      <td>11613</td>\n",
       "      <td>...</td>\n",
       "      <td>0</td>\n",
       "      <td>0</td>\n",
       "      <td>0</td>\n",
       "      <td>0</td>\n",
       "      <td>0</td>\n",
       "      <td>0</td>\n",
       "      <td>24</td>\n",
       "      <td>16</td>\n",
       "      <td>1.00</td>\n",
       "      <td>0.00</td>\n",
       "    </tr>\n",
       "  </tbody>\n",
       "</table>\n",
       "<p>7 rows × 25 columns</p>\n",
       "</div>"
      ],
      "text/plain": [
       "                                     id        item_id    dept_id   cat_id  \\\n",
       "0         HOBBIES_1_008_CA_1_validation  HOBBIES_1_008  HOBBIES_1  HOBBIES   \n",
       "1         HOBBIES_1_008_CA_1_validation  HOBBIES_1_008  HOBBIES_1  HOBBIES   \n",
       "2         HOBBIES_1_008_CA_1_validation  HOBBIES_1_008  HOBBIES_1  HOBBIES   \n",
       "46027953    FOODS_3_826_WI_3_validation    FOODS_3_826    FOODS_3    FOODS   \n",
       "46027954    FOODS_3_826_WI_3_validation    FOODS_3_826    FOODS_3    FOODS   \n",
       "46027955    FOODS_3_827_WI_3_validation    FOODS_3_827    FOODS_3    FOODS   \n",
       "46027956    FOODS_3_827_WI_3_validation    FOODS_3_827    FOODS_3    FOODS   \n",
       "\n",
       "         store_id state_id     d  sales       date  wm_yr_wk  ... snap_TX  \\\n",
       "0            CA_1       CA     1     12 2011-01-29     11101  ...       0   \n",
       "1            CA_1       CA     2     15 2011-01-30     11101  ...       0   \n",
       "2            CA_1       CA     3      0 2011-01-31     11101  ...       0   \n",
       "46027953     WI_3       WI  1912      1 2016-04-23     11613  ...       0   \n",
       "46027954     WI_3       WI  1913      3 2016-04-24     11613  ...       0   \n",
       "46027955     WI_3       WI  1912      0 2016-04-23     11613  ...       0   \n",
       "46027956     WI_3       WI  1913      0 2016-04-24     11613  ...       0   \n",
       "\n",
       "          snap_WI  event_name_1  event_type_1  event_name_2  event_type_2  \\\n",
       "0               0             0             0             0             0   \n",
       "1               0             0             0             0             0   \n",
       "2               0             0             0             0             0   \n",
       "46027953        0             0             0             0             0   \n",
       "46027954        0             0             0             0             0   \n",
       "46027955        0             0             0             0             0   \n",
       "46027956        0             0             0             0             0   \n",
       "\n",
       "          day  week  sell_price  revenue  \n",
       "0          29     4        0.46     5.52  \n",
       "1          30     4        0.46     6.90  \n",
       "2          31     5        0.46     0.00  \n",
       "46027953   23    16        1.28     1.28  \n",
       "46027954   24    16        1.28     3.84  \n",
       "46027955   23    16        1.00     0.00  \n",
       "46027956   24    16        1.00     0.00  \n",
       "\n",
       "[7 rows x 25 columns]"
      ]
     },
     "execution_count": 57,
     "metadata": {},
     "output_type": "execute_result"
    }
   ],
   "source": [
    "df.head(3).append(df.tail(4))"
   ]
  },
  {
   "cell_type": "code",
   "execution_count": 58,
   "metadata": {},
   "outputs": [
    {
     "data": {
      "text/plain": [
       "Index(['id', 'item_id', 'dept_id', 'cat_id', 'store_id', 'state_id', 'd',\n",
       "       'sales', 'date', 'wm_yr_wk', 'weekday', 'wday', 'month', 'year',\n",
       "       'snap_CA', 'snap_TX', 'snap_WI', 'event_name_1', 'event_type_1',\n",
       "       'event_name_2', 'event_type_2', 'day', 'week', 'sell_price', 'revenue'],\n",
       "      dtype='object')"
      ]
     },
     "execution_count": 58,
     "metadata": {},
     "output_type": "execute_result"
    }
   ],
   "source": [
    "df.columns"
   ]
  },
  {
   "cell_type": "markdown",
   "metadata": {},
   "source": [
    "### 1.3. Reduce data to one store state:TX, and one store: TX_1"
   ]
  },
  {
   "cell_type": "code",
   "execution_count": 59,
   "metadata": {},
   "outputs": [],
   "source": [
    "df = df.loc[df['store_id']=='TX_1']\n",
    "del df['snap_CA']\n",
    "del df['snap_WI']\n",
    "del df['state_id']"
   ]
  },
  {
   "cell_type": "code",
   "execution_count": 64,
   "metadata": {},
   "outputs": [
    {
     "data": {
      "text/html": [
       "<div>\n",
       "<style scoped>\n",
       "    .dataframe tbody tr th:only-of-type {\n",
       "        vertical-align: middle;\n",
       "    }\n",
       "\n",
       "    .dataframe tbody tr th {\n",
       "        vertical-align: top;\n",
       "    }\n",
       "\n",
       "    .dataframe thead th {\n",
       "        text-align: right;\n",
       "    }\n",
       "</style>\n",
       "<table border=\"1\" class=\"dataframe\">\n",
       "  <thead>\n",
       "    <tr style=\"text-align: right;\">\n",
       "      <th></th>\n",
       "      <th>id</th>\n",
       "      <th>item_id</th>\n",
       "      <th>dept_id</th>\n",
       "      <th>cat_id</th>\n",
       "      <th>store_id</th>\n",
       "      <th>d</th>\n",
       "      <th>sales</th>\n",
       "      <th>date</th>\n",
       "      <th>wm_yr_wk</th>\n",
       "      <th>weekday</th>\n",
       "      <th>...</th>\n",
       "      <th>year</th>\n",
       "      <th>snap_TX</th>\n",
       "      <th>event_name_1</th>\n",
       "      <th>event_type_1</th>\n",
       "      <th>event_name_2</th>\n",
       "      <th>event_type_2</th>\n",
       "      <th>day</th>\n",
       "      <th>week</th>\n",
       "      <th>sell_price</th>\n",
       "      <th>revenue</th>\n",
       "    </tr>\n",
       "  </thead>\n",
       "  <tbody>\n",
       "    <tr>\n",
       "      <td>0</td>\n",
       "      <td>HOBBIES_1_004_TX_1_validation</td>\n",
       "      <td>HOBBIES_1_004</td>\n",
       "      <td>HOBBIES_1</td>\n",
       "      <td>HOBBIES</td>\n",
       "      <td>TX_1</td>\n",
       "      <td>1</td>\n",
       "      <td>1</td>\n",
       "      <td>2011-01-29</td>\n",
       "      <td>11101</td>\n",
       "      <td>Saturday</td>\n",
       "      <td>...</td>\n",
       "      <td>2011</td>\n",
       "      <td>0</td>\n",
       "      <td>0</td>\n",
       "      <td>0</td>\n",
       "      <td>0</td>\n",
       "      <td>0</td>\n",
       "      <td>29</td>\n",
       "      <td>4</td>\n",
       "      <td>4.34</td>\n",
       "      <td>4.34</td>\n",
       "    </tr>\n",
       "    <tr>\n",
       "      <td>1</td>\n",
       "      <td>HOBBIES_1_004_TX_1_validation</td>\n",
       "      <td>HOBBIES_1_004</td>\n",
       "      <td>HOBBIES_1</td>\n",
       "      <td>HOBBIES</td>\n",
       "      <td>TX_1</td>\n",
       "      <td>2</td>\n",
       "      <td>2</td>\n",
       "      <td>2011-01-30</td>\n",
       "      <td>11101</td>\n",
       "      <td>Sunday</td>\n",
       "      <td>...</td>\n",
       "      <td>2011</td>\n",
       "      <td>0</td>\n",
       "      <td>0</td>\n",
       "      <td>0</td>\n",
       "      <td>0</td>\n",
       "      <td>0</td>\n",
       "      <td>30</td>\n",
       "      <td>4</td>\n",
       "      <td>4.34</td>\n",
       "      <td>8.68</td>\n",
       "    </tr>\n",
       "    <tr>\n",
       "      <td>2</td>\n",
       "      <td>HOBBIES_1_004_TX_1_validation</td>\n",
       "      <td>HOBBIES_1_004</td>\n",
       "      <td>HOBBIES_1</td>\n",
       "      <td>HOBBIES</td>\n",
       "      <td>TX_1</td>\n",
       "      <td>3</td>\n",
       "      <td>1</td>\n",
       "      <td>2011-01-31</td>\n",
       "      <td>11101</td>\n",
       "      <td>Monday</td>\n",
       "      <td>...</td>\n",
       "      <td>2011</td>\n",
       "      <td>0</td>\n",
       "      <td>0</td>\n",
       "      <td>0</td>\n",
       "      <td>0</td>\n",
       "      <td>0</td>\n",
       "      <td>31</td>\n",
       "      <td>5</td>\n",
       "      <td>4.34</td>\n",
       "      <td>4.34</td>\n",
       "    </tr>\n",
       "    <tr>\n",
       "      <td>4712579</td>\n",
       "      <td>FOODS_3_826_TX_1_validation</td>\n",
       "      <td>FOODS_3_826</td>\n",
       "      <td>FOODS_3</td>\n",
       "      <td>FOODS</td>\n",
       "      <td>TX_1</td>\n",
       "      <td>1912</td>\n",
       "      <td>0</td>\n",
       "      <td>2016-04-23</td>\n",
       "      <td>11613</td>\n",
       "      <td>Saturday</td>\n",
       "      <td>...</td>\n",
       "      <td>2016</td>\n",
       "      <td>0</td>\n",
       "      <td>0</td>\n",
       "      <td>0</td>\n",
       "      <td>0</td>\n",
       "      <td>0</td>\n",
       "      <td>23</td>\n",
       "      <td>16</td>\n",
       "      <td>1.28</td>\n",
       "      <td>0.00</td>\n",
       "    </tr>\n",
       "    <tr>\n",
       "      <td>4712580</td>\n",
       "      <td>FOODS_3_826_TX_1_validation</td>\n",
       "      <td>FOODS_3_826</td>\n",
       "      <td>FOODS_3</td>\n",
       "      <td>FOODS</td>\n",
       "      <td>TX_1</td>\n",
       "      <td>1913</td>\n",
       "      <td>0</td>\n",
       "      <td>2016-04-24</td>\n",
       "      <td>11613</td>\n",
       "      <td>Sunday</td>\n",
       "      <td>...</td>\n",
       "      <td>2016</td>\n",
       "      <td>0</td>\n",
       "      <td>0</td>\n",
       "      <td>0</td>\n",
       "      <td>0</td>\n",
       "      <td>0</td>\n",
       "      <td>24</td>\n",
       "      <td>16</td>\n",
       "      <td>1.28</td>\n",
       "      <td>0.00</td>\n",
       "    </tr>\n",
       "    <tr>\n",
       "      <td>4712581</td>\n",
       "      <td>FOODS_3_827_TX_1_validation</td>\n",
       "      <td>FOODS_3_827</td>\n",
       "      <td>FOODS_3</td>\n",
       "      <td>FOODS</td>\n",
       "      <td>TX_1</td>\n",
       "      <td>1912</td>\n",
       "      <td>1</td>\n",
       "      <td>2016-04-23</td>\n",
       "      <td>11613</td>\n",
       "      <td>Saturday</td>\n",
       "      <td>...</td>\n",
       "      <td>2016</td>\n",
       "      <td>0</td>\n",
       "      <td>0</td>\n",
       "      <td>0</td>\n",
       "      <td>0</td>\n",
       "      <td>0</td>\n",
       "      <td>23</td>\n",
       "      <td>16</td>\n",
       "      <td>1.00</td>\n",
       "      <td>1.00</td>\n",
       "    </tr>\n",
       "    <tr>\n",
       "      <td>4712582</td>\n",
       "      <td>FOODS_3_827_TX_1_validation</td>\n",
       "      <td>FOODS_3_827</td>\n",
       "      <td>FOODS_3</td>\n",
       "      <td>FOODS</td>\n",
       "      <td>TX_1</td>\n",
       "      <td>1913</td>\n",
       "      <td>0</td>\n",
       "      <td>2016-04-24</td>\n",
       "      <td>11613</td>\n",
       "      <td>Sunday</td>\n",
       "      <td>...</td>\n",
       "      <td>2016</td>\n",
       "      <td>0</td>\n",
       "      <td>0</td>\n",
       "      <td>0</td>\n",
       "      <td>0</td>\n",
       "      <td>0</td>\n",
       "      <td>24</td>\n",
       "      <td>16</td>\n",
       "      <td>1.00</td>\n",
       "      <td>0.00</td>\n",
       "    </tr>\n",
       "  </tbody>\n",
       "</table>\n",
       "<p>7 rows × 22 columns</p>\n",
       "</div>"
      ],
      "text/plain": [
       "                                    id        item_id    dept_id   cat_id  \\\n",
       "0        HOBBIES_1_004_TX_1_validation  HOBBIES_1_004  HOBBIES_1  HOBBIES   \n",
       "1        HOBBIES_1_004_TX_1_validation  HOBBIES_1_004  HOBBIES_1  HOBBIES   \n",
       "2        HOBBIES_1_004_TX_1_validation  HOBBIES_1_004  HOBBIES_1  HOBBIES   \n",
       "4712579    FOODS_3_826_TX_1_validation    FOODS_3_826    FOODS_3    FOODS   \n",
       "4712580    FOODS_3_826_TX_1_validation    FOODS_3_826    FOODS_3    FOODS   \n",
       "4712581    FOODS_3_827_TX_1_validation    FOODS_3_827    FOODS_3    FOODS   \n",
       "4712582    FOODS_3_827_TX_1_validation    FOODS_3_827    FOODS_3    FOODS   \n",
       "\n",
       "        store_id     d  sales       date  wm_yr_wk   weekday  ...  year  \\\n",
       "0           TX_1     1      1 2011-01-29     11101  Saturday  ...  2011   \n",
       "1           TX_1     2      2 2011-01-30     11101    Sunday  ...  2011   \n",
       "2           TX_1     3      1 2011-01-31     11101    Monday  ...  2011   \n",
       "4712579     TX_1  1912      0 2016-04-23     11613  Saturday  ...  2016   \n",
       "4712580     TX_1  1913      0 2016-04-24     11613    Sunday  ...  2016   \n",
       "4712581     TX_1  1912      1 2016-04-23     11613  Saturday  ...  2016   \n",
       "4712582     TX_1  1913      0 2016-04-24     11613    Sunday  ...  2016   \n",
       "\n",
       "         snap_TX  event_name_1  event_type_1  event_name_2  event_type_2  day  \\\n",
       "0              0             0             0             0             0   29   \n",
       "1              0             0             0             0             0   30   \n",
       "2              0             0             0             0             0   31   \n",
       "4712579        0             0             0             0             0   23   \n",
       "4712580        0             0             0             0             0   24   \n",
       "4712581        0             0             0             0             0   23   \n",
       "4712582        0             0             0             0             0   24   \n",
       "\n",
       "         week  sell_price  revenue  \n",
       "0           4        4.34     4.34  \n",
       "1           4        4.34     8.68  \n",
       "2           5        4.34     4.34  \n",
       "4712579    16        1.28     0.00  \n",
       "4712580    16        1.28     0.00  \n",
       "4712581    16        1.00     1.00  \n",
       "4712582    16        1.00     0.00  \n",
       "\n",
       "[7 rows x 22 columns]"
      ]
     },
     "execution_count": 64,
     "metadata": {},
     "output_type": "execute_result"
    }
   ],
   "source": [
    "# reset index\n",
    "df.reset_index(inplace=True)\n",
    "del df['index']\n",
    "df.head(3).append(df.tail(4))"
   ]
  },
  {
   "cell_type": "markdown",
   "metadata": {},
   "source": [
    "### 1.4. Find Items in this store with highest revenues (number of sales*price) "
   ]
  },
  {
   "cell_type": "code",
   "execution_count": 68,
   "metadata": {},
   "outputs": [
    {
     "data": {
      "text/html": [
       "<div>\n",
       "<style scoped>\n",
       "    .dataframe tbody tr th:only-of-type {\n",
       "        vertical-align: middle;\n",
       "    }\n",
       "\n",
       "    .dataframe tbody tr th {\n",
       "        vertical-align: top;\n",
       "    }\n",
       "\n",
       "    .dataframe thead th {\n",
       "        text-align: right;\n",
       "    }\n",
       "</style>\n",
       "<table border=\"1\" class=\"dataframe\">\n",
       "  <thead>\n",
       "    <tr style=\"text-align: right;\">\n",
       "      <th></th>\n",
       "      <th>revenue</th>\n",
       "    </tr>\n",
       "    <tr>\n",
       "      <th>item_id</th>\n",
       "      <th></th>\n",
       "    </tr>\n",
       "  </thead>\n",
       "  <tbody>\n",
       "    <tr>\n",
       "      <td>HOBBIES_1_158</td>\n",
       "      <td>122.162302</td>\n",
       "    </tr>\n",
       "    <tr>\n",
       "      <td>FOODS_3_586</td>\n",
       "      <td>93.271364</td>\n",
       "    </tr>\n",
       "    <tr>\n",
       "      <td>FOODS_3_202</td>\n",
       "      <td>82.437020</td>\n",
       "    </tr>\n",
       "    <tr>\n",
       "      <td>FOODS_3_090</td>\n",
       "      <td>65.749775</td>\n",
       "    </tr>\n",
       "    <tr>\n",
       "      <td>FOODS_3_444</td>\n",
       "      <td>59.829155</td>\n",
       "    </tr>\n",
       "    <tr>\n",
       "      <td>FOODS_3_587</td>\n",
       "      <td>58.068244</td>\n",
       "    </tr>\n",
       "    <tr>\n",
       "      <td>FOODS_3_555</td>\n",
       "      <td>57.203178</td>\n",
       "    </tr>\n",
       "    <tr>\n",
       "      <td>FOODS_3_252</td>\n",
       "      <td>44.664987</td>\n",
       "    </tr>\n",
       "    <tr>\n",
       "      <td>HOBBIES_1_354</td>\n",
       "      <td>43.838673</td>\n",
       "    </tr>\n",
       "    <tr>\n",
       "      <td>HOUSEHOLD_1_110</td>\n",
       "      <td>41.513730</td>\n",
       "    </tr>\n",
       "  </tbody>\n",
       "</table>\n",
       "</div>"
      ],
      "text/plain": [
       "                    revenue\n",
       "item_id                    \n",
       "HOBBIES_1_158    122.162302\n",
       "FOODS_3_586       93.271364\n",
       "FOODS_3_202       82.437020\n",
       "FOODS_3_090       65.749775\n",
       "FOODS_3_444       59.829155\n",
       "FOODS_3_587       58.068244\n",
       "FOODS_3_555       57.203178\n",
       "FOODS_3_252       44.664987\n",
       "HOBBIES_1_354     43.838673\n",
       "HOUSEHOLD_1_110   41.513730"
      ]
     },
     "execution_count": 68,
     "metadata": {},
     "output_type": "execute_result"
    }
   ],
   "source": [
    "df.groupby(by=df['item_id'])[['revenue']].mean().sort_values(by = 'revenue',ascending=False)[:10]"
   ]
  },
  {
   "cell_type": "markdown",
   "metadata": {},
   "source": [
    "### 1.5. Select Items from the top 10 list above: FOODS_3_586, HOBBIES_1_354, HOUSEHOLD_1_110\n",
    "\n",
    "(Note: Hobbies 1_158 was not selected as data available only for the last year)"
   ]
  },
  {
   "cell_type": "markdown",
   "metadata": {},
   "source": [
    "### 1.5.1. Item FOOD_3_586"
   ]
  },
  {
   "cell_type": "code",
   "execution_count": 69,
   "metadata": {},
   "outputs": [],
   "source": [
    "food= df[df['item_id']=='FOODS_3_586']\n",
    "food= food.groupby('wm_yr_wk')[['revenue']].sum()"
   ]
  },
  {
   "cell_type": "code",
   "execution_count": 71,
   "metadata": {},
   "outputs": [
    {
     "data": {
      "image/png": "[encoded data removed]",
      "text/plain": [
       "<Figure size 1152x432 with 1 Axes>"
      ]
     },
     "metadata": {
      "needs_background": "light"
     },
     "output_type": "display_data"
    }
   ],
   "source": [
    "weeks=food.index\n",
    "x = np.arange(len(weeks))\n",
    "\n",
    "revenue=food['revenue']\n",
    "\n",
    "plt.figure(figsize=(16,6))\n",
    "plt.bar(x, revenue, align='center', alpha=0.5)\n",
    "# plt.xticks(x, weeks)\n",
    "\n",
    "plt.xlabel('Week number')\n",
    "plt.ylabel('Revenue in USD')\n",
    "plt.title('FOODS_3_586 revenue per week')\n",
    "plt.show()"
   ]
  },
  {
   "cell_type": "markdown",
   "metadata": {},
   "source": [
    "### 1.5.2. Item HOBBIES_1_354"
   ]
  },
  {
   "cell_type": "code",
   "execution_count": 75,
   "metadata": {},
   "outputs": [],
   "source": [
    "hobbies= df[df['item_id']=='HOBBIES_1_354']\n",
    "hobbies= hobbies.groupby('wm_yr_wk')[['revenue']].sum()"
   ]
  },
  {
   "cell_type": "code",
   "execution_count": 78,
   "metadata": {},
   "outputs": [
    {
     "data": {
      "image/png": "[encoded data removed]",
      "text/plain": [
       "<Figure size 1152x432 with 1 Axes>"
      ]
     },
     "metadata": {
      "needs_background": "light"
     },
     "output_type": "display_data"
    }
   ],
   "source": [
    "weeks=hobbies.index\n",
    "x = np.arange(len(weeks))\n",
    "\n",
    "revenue=hobbies['revenue']\n",
    "\n",
    "plt.figure(figsize=(16,6))\n",
    "plt.bar(x, revenue, align='center', alpha=0.5)\n",
    "# plt.xticks(x, weeks)\n",
    "\n",
    "plt.xlabel('Week number')\n",
    "plt.ylabel('Revenue in USD')\n",
    "plt.title('HOBBIES_1_354 revenue per week')\n",
    "plt.show()"
   ]
  },
  {
   "cell_type": "markdown",
   "metadata": {},
   "source": [
    "### 1.5.3 Item HOUSEHOLD_1_110"
   ]
  },
  {
   "cell_type": "code",
   "execution_count": 79,
   "metadata": {},
   "outputs": [],
   "source": [
    "household= df[df['item_id']=='HOUSEHOLD_1_110']\n",
    "household = household.groupby('wm_yr_wk')[['revenue']].sum()\n"
   ]
  },
  {
   "cell_type": "code",
   "execution_count": 80,
   "metadata": {},
   "outputs": [
    {
     "data": {
      "image/png": "[encoded data removed]",
      "text/plain": [
       "<Figure size 1152x432 with 1 Axes>"
      ]
     },
     "metadata": {
      "needs_background": "light"
     },
     "output_type": "display_data"
    }
   ],
   "source": [
    "weeks=household.index\n",
    "x = np.arange(len(weeks))\n",
    "\n",
    "revenue=household['revenue']\n",
    "\n",
    "plt.figure(figsize=(16,6))\n",
    "plt.bar(x, revenue, align='center', alpha=0.5)\n",
    "# plt.xticks(x, weeks)\n",
    "\n",
    "plt.xlabel('Week number')\n",
    "plt.ylabel('Revenue in USD')\n",
    "plt.title('HOUSEHOLD_1_110 revenue per week')\n",
    "plt.show()"
   ]
  },
  {
   "cell_type": "code",
   "execution_count": 81,
   "metadata": {},
   "outputs": [],
   "source": [
    "del household\n",
    "del hobbies\n",
    "del food"
   ]
  },
  {
   "cell_type": "code",
   "execution_count": 82,
   "metadata": {},
   "outputs": [],
   "source": [
    "del df['revenue']"
   ]
  },
  {
   "cell_type": "markdown",
   "metadata": {},
   "source": [
    "## 2. Feature Engineering\n",
    "### 2.1. Lag Features"
   ]
  },
  {
   "cell_type": "code",
   "execution_count": 162,
   "metadata": {},
   "outputs": [],
   "source": [
    "# create df-s for three top items\n",
    "df_3 = df[df['item_id']=='HOUSEHOLD_1_110']\n",
    "df_2 = df[df['item_id']=='HOBBIES_1_354']\n",
    "df_1 = df[df['item_id']=='FOODS_3_586']"
   ]
  },
  {
   "cell_type": "markdown",
   "metadata": {},
   "source": [
    "### Define functions for the lag Features"
   ]
  },
  {
   "cell_type": "code",
   "execution_count": 84,
   "metadata": {},
   "outputs": [],
   "source": [
    "def lag_features(df):\n",
    "    '''\n",
    "    Function returns data frame with lag features.\n",
    "    \n",
    "    '''\n",
    "    #create data frame from data frame for lag features\n",
    "    lag_df = df[['d','id', 'sales']]\n",
    "    lag_group = lag_df.groupby('id')['sales']\n",
    "\n",
    "    # create lag(shift) features: this represents sales 'shift' days ago\n",
    "    shifts = [7,14,28,35,42]\n",
    "    for i in shifts:\n",
    "        lag_df[f'shift_{i}'] = lag_group.shift(i)\n",
    "    \n",
    "    \n",
    "    # use shift min=7 with windows for rolling mean and std dev. calc  \n",
    "    windows = [7,14,28,56,84,180]\n",
    "    shifts = [7, 14] \n",
    "    for i in shifts:\n",
    "        for j in windows:\n",
    "            lag_df[f'rmean{j}_lag{i}'] = lag_group.shift(i).rolling(j).mean()\n",
    "            lag_df[f'rstd{j}_lag{i}'] = lag_group.shift(i).rolling(j).std()\n",
    "            \n",
    "    return lag_df\n",
    "\n",
    "\n",
    "def merge_lag_df(df,lag_df):\n",
    "    \n",
    "    '''\n",
    "    Function returns merged df with lag features df.\n",
    "    '''\n",
    "    ### merge lag features with data frame\n",
    "    \n",
    "    lag_df.drop(columns = 'sales',axis=1,inplace=True)\n",
    "    df = df.merge(lag_df, on=['id','d'], how='left')\n",
    "    \n",
    "    return df\n",
    "\n",
    "def remove_nan(df):\n",
    "    '''\n",
    "    Function drops NaN, created by lag features.\n",
    "    '''\n",
    "    df = df.dropna()\n",
    "    return df\n"
   ]
  },
  {
   "cell_type": "markdown",
   "metadata": {},
   "source": [
    "### 2.2. Price Features"
   ]
  },
  {
   "cell_type": "code",
   "execution_count": 85,
   "metadata": {},
   "outputs": [],
   "source": [
    "### lets define shift days = 7 as constant, equal to the prediction horizon.\n",
    "### Note: actual prediction horizon, when scaled should be = 28 days.\n",
    "SHIFT = 7\n",
    "\n",
    "def price_features(df):\n",
    "    \n",
    "    '''\n",
    "    Function returns data frame with price features(moving average = 14 days).\n",
    "    '''\n",
    "    \n",
    "    price_group = df['sell_price'].shift(SHIFT).rolling(14)\n",
    "    df['price_mean']= price_group.mean()\n",
    "    df['price_max']= price_group.max()\n",
    "    df['price_min']= price_group.min()\n",
    "    df['price_std']= price_group.std()\n",
    "    \n",
    "    return df"
   ]
  },
  {
   "cell_type": "code",
   "execution_count": 87,
   "metadata": {},
   "outputs": [],
   "source": [
    "# plt.plot(df_1['wm_yr_wk'],df_1['sell_price']);"
   ]
  },
  {
   "cell_type": "markdown",
   "metadata": {},
   "source": [
    "### 3. Baseline Model"
   ]
  },
  {
   "cell_type": "markdown",
   "metadata": {},
   "source": [
    "### Create baseline  prediction function"
   ]
  },
  {
   "cell_type": "code",
   "execution_count": 167,
   "metadata": {},
   "outputs": [],
   "source": [
    "def predict_lgb(df):\n",
    "    \n",
    "    '''\n",
    "    Function prints RMSE for train and test data.\n",
    "    '''\n",
    "    \n",
    "    # Create X, Y\n",
    "    # 'wday' duplicates 'weekday'- put in remove_col\n",
    "    remove_col = ['store_id','state_id','sales','id', 'item_id', 'dept_id', 'cat_id', 'weekday'] \n",
    "    used_col = [c for c in df.columns.tolist() if c not in remove_col]\n",
    "    y = df['sales']\n",
    "    X = df[used_col]\n",
    "    \n",
    "    # Split train, test(last 7 days)\n",
    "    X_train, X_test = X[:'2016-04-17'], X['2016-04-18':]\n",
    "    y_train, y_test = y[:'2016-04-17'], y['2016-04-18':]\n",
    "    \n",
    "    \n",
    "    train_data=lgb.Dataset(X_train,label=y_train)\n",
    "\n",
    "    lgb_params = {\"objective\" : \"poisson\",\n",
    "                  \"metric\" :\"rmse\",\n",
    "                  \"force_row_wise\" : True,\n",
    "                  \"learning_rate\" : 0.04,\n",
    "                  #\"sub_feature\" : 0.8,\n",
    "                  \"sub_row\" : 0.75,\n",
    "                  \"bagging_freq\" : 1,\n",
    "                  \"lambda_l2\" : 0.1,\n",
    "                  #\"nthread\" : 4,\n",
    "                  \"metric\": [\"rmse\"],\n",
    "                  \"verbosity\": 1,\n",
    "                  \"num_iterations\" : 100,\n",
    "                  \"num_leaves\": 40,\n",
    "                  \"min_data_in_leaf\": 11}\n",
    "\n",
    "\n",
    "    start=datetime.now()\n",
    "    estimator = lgb.train(lgb_params,train_data)\n",
    "    stop=datetime.now()\n",
    "\n",
    "    y_pred_train=estimator.predict(X_train)\n",
    "    y_pred=estimator.predict(X_test)\n",
    "\n",
    "    print('--------------------')\n",
    "    print(\"RMSE_train:\",(mean_squared_error(y_train.values, y_pred_train))**0.5)\n",
    "    print(\"RMSE_test:\",(mean_squared_error(y_test.values, y_pred))**0.5)\n",
    "    print('--------------------')\n",
    "    print()\n",
    "    print('Naive benchmarks:')\n",
    "    print('Predicted Test week average sales:',y_pred.mean())\n",
    "    print('True Average Sales at:')\n",
    "    print('Test week:',y_test.values.mean())\n",
    "    print('Week before test:', y['2016-04-10':'2016-04-16'].values.mean())\n",
    "    print('Last year at test week:', y['2015-04-20':'2015-04-26'].values.mean())\n",
    "    print('--------------------')\n",
    "    \n",
    "#     print('Sales')\n",
    "\n",
    "#     print('Predicted Test week:',np.round(y_pred.tolist()))\n",
    "#     print('True Test week:',y_test.values.tolist())\n",
    "#     print('Week before test:', y['2016-04-16':'2016-04-18'].values.tolist())\n",
    "#     print('Last year @ test week:', y['['2015-04-20':'2015-04-26']'].values.tolist())\n",
    "\n",
    "# lgb_params = {'boosting_type': 'gbdt',\n",
    "#               'objective': 'tweedie',\n",
    "#               'tweedie_variance_power': 1.1,\n",
    "#               'metric': 'rmse',\n",
    "#               'num_iterations' : 200,\n",
    "#               'subsample': 0.7,\n",
    "#               'subsample_freq': 1,\n",
    "#               'learning_rate': 0.075,\n",
    "#               'num_leaves': 40,\n",
    "#               'min_data_in_leaf':1,\n",
    "#               'feature_fraction': 0.5,\n",
    "#               'max_bin': 100,\n",
    "#               'n_estimators': 1400,\n",
    "#               'boost_from_average': False,\n",
    "#               'verbose': -1} \n",
    "\n",
    "\n",
    "    return None"
   ]
  },
  {
   "cell_type": "markdown",
   "metadata": {},
   "source": [
    "### 3.1 Model for item_1"
   ]
  },
  {
   "cell_type": "code",
   "execution_count": 159,
   "metadata": {},
   "outputs": [],
   "source": [
    "lag_df_1 = lag_features(df_1)\n",
    "df_1 = merge_lag_df(df_1, lag_df_1)\n",
    "df_1 = price_features(df_1)\n",
    "df_1 = remove_nan(df_1)\n",
    "df_1.set_index('date',inplace=True)"
   ]
  },
  {
   "cell_type": "code",
   "execution_count": 160,
   "metadata": {},
   "outputs": [
    {
     "name": "stdout",
     "output_type": "stream",
     "text": [
      "--------------------\n",
      "RMSE_train: 10.07933122884226\n",
      "RMSE_test: 16.227149648549762\n",
      "--------------------\n",
      "\n",
      "Naive benchmarks:\n",
      "Predicted Test week average sales: 51.00629482502255\n",
      "True Average Sales at:\n",
      "Test week: 60.142857142857146\n",
      "Week before test: 49.142857142857146\n",
      "Last year at test week: 40.42857142857143\n",
      "--------------------\n"
     ]
    }
   ],
   "source": [
    "predict_lgb(df_1)"
   ]
  },
  {
   "cell_type": "markdown",
   "metadata": {},
   "source": [
    "### 3.2 Model for iitem_2"
   ]
  },
  {
   "cell_type": "code",
   "execution_count": 163,
   "metadata": {},
   "outputs": [],
   "source": [
    "lag_df_2 = lag_features(df_2)\n",
    "df_2 = merge_lag_df(df_2, lag_df_2)\n",
    "df_2 = price_features(df_2)\n",
    "df_2 = remove_nan(df_2)\n",
    "df_2.set_index('date',inplace=True)"
   ]
  },
  {
   "cell_type": "code",
   "execution_count": 164,
   "metadata": {},
   "outputs": [
    {
     "name": "stdout",
     "output_type": "stream",
     "text": [
      "--------------------\n",
      "RMSE_train: 1.288827505930173\n",
      "RMSE_test: 3.7860544823257474\n",
      "--------------------\n",
      "\n",
      "Naive benchmarks:\n",
      "Predicted Test week average sales: 0.4662634017377205\n",
      "True Average Sales at:\n",
      "Test week: 2.142857142857143\n",
      "Week before test: 0.0\n",
      "Last year at test week: 2.0\n",
      "--------------------\n"
     ]
    }
   ],
   "source": [
    "predict_lgb(df_2)"
   ]
  },
  {
   "cell_type": "markdown",
   "metadata": {},
   "source": [
    "### 3.3 Model for item_3"
   ]
  },
  {
   "cell_type": "code",
   "execution_count": 165,
   "metadata": {},
   "outputs": [],
   "source": [
    "lag_df_3 = lag_features(df_3)\n",
    "df_3 = merge_lag_df(df_3, lag_df_3)\n",
    "df_3 = price_features(df_3)\n",
    "df_3 = remove_nan(df_3)\n",
    "df_3.set_index('date',inplace=True)"
   ]
  },
  {
   "cell_type": "code",
   "execution_count": 166,
   "metadata": {},
   "outputs": [
    {
     "name": "stdout",
     "output_type": "stream",
     "text": [
      "--------------------\n",
      "RMSE_train: 3.5093504291078865\n",
      "RMSE_test: 4.334986093319537\n",
      "--------------------\n",
      "\n",
      "Naive benchmarks:\n",
      "Predicted Test week average sales: 10.503527194193225\n",
      "True Average Sales at:\n",
      "Test week: 13.428571428571429\n",
      "Week before test: 11.142857142857142\n",
      "Last year at test week: 14.428571428571429\n",
      "--------------------\n"
     ]
    }
   ],
   "source": [
    "predict_lgb(df_3)"
   ]
  },
  {
   "cell_type": "markdown",
   "metadata": {},
   "source": [
    "### Feature Importance for df_3"
   ]
  },
  {
   "cell_type": "code",
   "execution_count": 168,
   "metadata": {},
   "outputs": [
    {
     "data": {
      "text/plain": [
       "<matplotlib.axes._subplots.AxesSubplot at 0x1272759b0>"
      ]
     },
     "execution_count": 168,
     "metadata": {},
     "output_type": "execute_result"
    },
    {
     "data": {
      "image/png": "[encoded data removed]",
      "text/plain": [
       "<Figure size 1152x576 with 1 Axes>"
      ]
     },
     "metadata": {
      "needs_background": "light"
     },
     "output_type": "display_data"
    }
   ],
   "source": [
    "lgb.plot_importance(estimator, figsize=(16,8))"
   ]
  },
  {
   "cell_type": "markdown",
   "metadata": {},
   "source": [
    "### Conclusions:\n",
    "- Model needs improvement(currently overfits)\n",
    "- Better features can help to improve results\n",
    "- more testing required\n",
    "- need to explore good validation strategy for time series"
   ]
  },
  {
   "cell_type": "markdown",
   "metadata": {},
   "source": [
    "## Reference list\n",
    "\n",
    "### 1.EDA.\n",
    "https://www.kaggle.com/headsortails/back-to-predict-the-future-interactive-m5-eda\n",
    "\n",
    "https://www.kaggle.com/robikscube/m5-forecasting-starter-data-exploration\n",
    "\n",
    "https://www.kaggle.com/rohitsingh9990/m5-forecasting-eda-feature-engineering\n",
    "\n",
    "### 2.a. Ideas/Concepts:\n",
    "https://www.kaggle.com/kyakovlev/m5-lags-features\n",
    "\n",
    "https://www.kaggle.com/kyakovlev/m5-simple-fe\n",
    "\n",
    "https://www.kaggle.com/kyakovlev/m5-custom-features/comments\n",
    "\n",
    "https://www.kaggle.com/kyakovlev/m5-three-shades-of-dark-darker-magic/data\n",
    "\n",
    "https://www.kaggle.com/kyakovlev/m5-dark-magic/notebook\n",
    "\n",
    "### 2.b. Ideas/Concepts:\n",
    "https://www.kaggle.com/c/m5-forecasting-accuracy/discussion/144067\n",
    "\n",
    "https://www.kaggle.com/kyakovlev/m5-aux-models/kernels\n",
    "\n",
    "https://www.kaggle.com/c/m5-forecasting-accuracy/discussion/144067\n",
    "\n",
    "https://www.kaggle.com/c/m5-forecasting-accuracy/discussion/138881\n",
    "\n",
    "https://www.kaggle.com/c/m5-forecasting-accuracy/discussion/139461\n",
    "\n",
    "\n",
    "### 3. Beginer notebooks:\n",
    "https://www.kaggle.com/ragnar123/very-fst-model\n",
    "\n",
    "https://www.kaggle.com/rohitsingh9990/m5-lgbm-fe\n",
    "\n",
    "\n",
    "### 4. Modelling reference:\n",
    "https://cran.r-project.org/web/packages/forecastML/vignettes/grouped_forecast.html\n",
    "\n",
    "https://www.kaggle.com/c/web-traffic-time-series-forecasting/discussion/43795\n",
    "\n",
    "https://github.com/Arturus/kaggle-web-traffic/blob/master/how_it_works.md\n",
    "\n",
    "### 5. Python:\n",
    "https://www.tutorialspoint.com/python_pandas/python_pandas_groupby.htm\n",
    "\n",
    "https://pandas.pydata.org/pandas-docs/stable/user_guide/groupby.html#transformation\n",
    "\n",
    "### 6. Data type and memory optimization:\n",
    "https://docs.scipy.org/doc/numpy-1.13.0/user/basics.types.html\n",
    "\n",
    "### 7. Metrics:\n",
    "https://www.kaggle.com/dhananjay3/wrmsse-evaluator-with-extra-features\n",
    "\n",
    "https://www.kaggle.com/c/m5-forecasting-accuracy/discussion/133834\n",
    "\n",
    "https://www.kaggle.com/girmdshinsei/for-japanese-beginner-with-wrmsse-in-lgbm\n",
    "\n",
    "### 8. Notebooks:\n",
    "https://www.kaggle.com/poedator/m5-under-0-50-optimized\n",
    "\n",
    "https://www.kaggle.com/kneroma/m5-first-public-notebook-under-0-50\n",
    "\n",
    "https://www.kaggle.com/kneroma/m5-forecast-v2-python\n",
    "\n",
    "https://www.kaggle.com/c/m5-forecasting-accuracy/discussion/141515\n",
    "\n",
    "https://www.kaggle.com/qcw171717/top-down-distribution-method/comments#832295\n",
    "\n",
    "https://www.kaggle.com/kernelgenerator/m5-accuracy-poisson-tweedie/notebook\n",
    "\n",
    "https://www.kaggle.com/mayer79/m5-forecast-poisson-loss"
   ]
  },
  {
   "cell_type": "code",
   "execution_count": null,
   "metadata": {},
   "outputs": [],
   "source": []
  }
 ],
 "metadata": {
  "kernelspec": {
   "display_name": "Python 3",
   "language": "python",
   "name": "python3"
  },
  "language_info": {
   "codemirror_mode": {
    "name": "ipython",
    "version": 3
   },
   "file_extension": ".py",
   "mimetype": "text/x-python",
   "name": "python",
   "nbconvert_exporter": "python",
   "pygments_lexer": "ipython3",
   "version": "3.6.9"
  }
 },
 "nbformat": 4,
 "nbformat_minor": 2
}
